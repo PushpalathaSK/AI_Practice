{
  "nbformat": 4,
  "nbformat_minor": 0,
  "metadata": {
    "colab": {
      "provenance": [],
      "authorship_tag": "ABX9TyP6dxpiRyydKi5bt9+TvxtX",
      "include_colab_link": true
    },
    "kernelspec": {
      "name": "python3",
      "display_name": "Python 3"
    },
    "language_info": {
      "name": "python"
    }
  },
  "cells": [
    {
      "cell_type": "markdown",
      "metadata": {
        "id": "view-in-github",
        "colab_type": "text"
      },
      "source": [
        "<a href=\"https://colab.research.google.com/github/PushpalathaSK/AI_Practice/blob/main/Imputer.ipynb\" target=\"_parent\"><img src=\"https://colab.research.google.com/assets/colab-badge.svg\" alt=\"Open In Colab\"/></a>"
      ]
    },
    {
      "cell_type": "code",
      "execution_count": null,
      "metadata": {
        "colab": {
          "base_uri": "https://localhost:8080/"
        },
        "id": "awDkpOcMwFnd",
        "outputId": "53bbb848-e1ca-47bc-c859-9ad7760a9643"
      },
      "outputs": [
        {
          "output_type": "stream",
          "name": "stdout",
          "text": [
            "<class 'pandas.core.frame.DataFrame'>\n",
            "RangeIndex: 891 entries, 0 to 890\n",
            "Data columns (total 15 columns):\n",
            " #   Column       Non-Null Count  Dtype   \n",
            "---  ------       --------------  -----   \n",
            " 0   survived     891 non-null    int64   \n",
            " 1   pclass       891 non-null    int64   \n",
            " 2   sex          891 non-null    object  \n",
            " 3   age          714 non-null    float64 \n",
            " 4   sibsp        891 non-null    int64   \n",
            " 5   parch        891 non-null    int64   \n",
            " 6   fare         891 non-null    float64 \n",
            " 7   embarked     889 non-null    object  \n",
            " 8   class        891 non-null    category\n",
            " 9   who          891 non-null    object  \n",
            " 10  adult_male   891 non-null    bool    \n",
            " 11  deck         203 non-null    category\n",
            " 12  embark_town  889 non-null    object  \n",
            " 13  alive        891 non-null    object  \n",
            " 14  alone        891 non-null    bool    \n",
            "dtypes: bool(2), category(2), float64(2), int64(4), object(5)\n",
            "memory usage: 80.7+ KB\n"
          ]
        }
      ],
      "source": [
        "from seaborn import load_dataset\n",
        "\n",
        "data=load_dataset('titanic')\n",
        "data.info()"
      ]
    },
    {
      "cell_type": "code",
      "source": [
        "data.isnull().sum()"
      ],
      "metadata": {
        "colab": {
          "base_uri": "https://localhost:8080/",
          "height": 554
        },
        "id": "avvK7AhYwrVe",
        "outputId": "1d26a5a1-44a3-4667-c7f0-26acd523d1dc"
      },
      "execution_count": null,
      "outputs": [
        {
          "output_type": "execute_result",
          "data": {
            "text/plain": [
              "survived         0\n",
              "pclass           0\n",
              "sex              0\n",
              "age            177\n",
              "sibsp            0\n",
              "parch            0\n",
              "fare             0\n",
              "embarked         2\n",
              "class            0\n",
              "who              0\n",
              "adult_male       0\n",
              "deck           688\n",
              "embark_town      2\n",
              "alive            0\n",
              "alone            0\n",
              "dtype: int64"
            ],
            "text/html": [
              "<div>\n",
              "<style scoped>\n",
              "    .dataframe tbody tr th:only-of-type {\n",
              "        vertical-align: middle;\n",
              "    }\n",
              "\n",
              "    .dataframe tbody tr th {\n",
              "        vertical-align: top;\n",
              "    }\n",
              "\n",
              "    .dataframe thead th {\n",
              "        text-align: right;\n",
              "    }\n",
              "</style>\n",
              "<table border=\"1\" class=\"dataframe\">\n",
              "  <thead>\n",
              "    <tr style=\"text-align: right;\">\n",
              "      <th></th>\n",
              "      <th>0</th>\n",
              "    </tr>\n",
              "  </thead>\n",
              "  <tbody>\n",
              "    <tr>\n",
              "      <th>survived</th>\n",
              "      <td>0</td>\n",
              "    </tr>\n",
              "    <tr>\n",
              "      <th>pclass</th>\n",
              "      <td>0</td>\n",
              "    </tr>\n",
              "    <tr>\n",
              "      <th>sex</th>\n",
              "      <td>0</td>\n",
              "    </tr>\n",
              "    <tr>\n",
              "      <th>age</th>\n",
              "      <td>177</td>\n",
              "    </tr>\n",
              "    <tr>\n",
              "      <th>sibsp</th>\n",
              "      <td>0</td>\n",
              "    </tr>\n",
              "    <tr>\n",
              "      <th>parch</th>\n",
              "      <td>0</td>\n",
              "    </tr>\n",
              "    <tr>\n",
              "      <th>fare</th>\n",
              "      <td>0</td>\n",
              "    </tr>\n",
              "    <tr>\n",
              "      <th>embarked</th>\n",
              "      <td>2</td>\n",
              "    </tr>\n",
              "    <tr>\n",
              "      <th>class</th>\n",
              "      <td>0</td>\n",
              "    </tr>\n",
              "    <tr>\n",
              "      <th>who</th>\n",
              "      <td>0</td>\n",
              "    </tr>\n",
              "    <tr>\n",
              "      <th>adult_male</th>\n",
              "      <td>0</td>\n",
              "    </tr>\n",
              "    <tr>\n",
              "      <th>deck</th>\n",
              "      <td>688</td>\n",
              "    </tr>\n",
              "    <tr>\n",
              "      <th>embark_town</th>\n",
              "      <td>2</td>\n",
              "    </tr>\n",
              "    <tr>\n",
              "      <th>alive</th>\n",
              "      <td>0</td>\n",
              "    </tr>\n",
              "    <tr>\n",
              "      <th>alone</th>\n",
              "      <td>0</td>\n",
              "    </tr>\n",
              "  </tbody>\n",
              "</table>\n",
              "</div><br><label><b>dtype:</b> int64</label>"
            ]
          },
          "metadata": {},
          "execution_count": 34
        }
      ]
    },
    {
      "cell_type": "code",
      "source": [
        "from sklearn.model_selection import train_test_split\n",
        "X=data.drop('survived', axis=1)\n",
        "y=data['survived']"
      ],
      "metadata": {
        "id": "OOOGkWILwvno"
      },
      "execution_count": null,
      "outputs": []
    },
    {
      "cell_type": "code",
      "source": [
        "from sklearn.preprocessing import LabelEncoder\n",
        "for col in X.columns:\n",
        "  if X[col].dtype in ['object','category','bool']:\n",
        "    le=LabelEncoder()\n",
        "    X[col]=le.fit_transform(X[col].astype(str))"
      ],
      "metadata": {
        "id": "HOm2KApBxyVI"
      },
      "execution_count": null,
      "outputs": []
    },
    {
      "cell_type": "code",
      "source": [
        "X_train, X_test, y_train, y_test=train_test_split(X,y,test_size=0.2,random_state=42)"
      ],
      "metadata": {
        "id": "TQ0ApyNuyZYJ"
      },
      "execution_count": null,
      "outputs": []
    },
    {
      "cell_type": "code",
      "source": [
        "from sklearn.impute import SimpleImputer\n",
        "X_train_imp = X_train.copy()\n",
        "X_test_imp = X_test.copy()\n",
        "imputer=SimpleImputer(strategy='mean')\n",
        "X_train_imp[[col]] = imputer.fit_transform(X_train_imp[[col]])\n",
        "X_test_imp[[col]] = imputer.transform(X_test_imp[[col]])\n"
      ],
      "metadata": {
        "id": "ujpPwT5KwyEF"
      },
      "execution_count": null,
      "outputs": []
    },
    {
      "cell_type": "code",
      "source": [
        "from sklearn.experimental import enable_iterative_imputer\n",
        "from sklearn.impute import SimpleImputer, KNNImputer, IterativeImputer\n",
        "import pandas as pd\n",
        "X_train_knn = X_train.copy()\n",
        "X_test_knn= X_test.copy()\n",
        "knn_imp = KNNImputer(n_neighbors=5)\n",
        "X_train_knn = pd.DataFrame(knn_imp.fit_transform(X_train_knn), columns=X.columns)\n",
        "X_test_knn = pd.DataFrame(knn_imp.transform(X_test_knn), columns=X.columns)\n"
      ],
      "metadata": {
        "id": "xlQTKWoKy3Ud"
      },
      "execution_count": null,
      "outputs": []
    },
    {
      "cell_type": "code",
      "source": [
        "iter_imp = IterativeImputer(random_state=42)\n",
        "X_train_iter = X_train.copy()\n",
        "X_test_iter = X_test.copy()\n",
        "X_train_iter = pd.DataFrame(iter_imp.fit_transform(X_train_iter), columns=X.columns)\n",
        "X_test_iter = pd.DataFrame(iter_imp.transform(X_test_iter), columns=X.columns)\n"
      ],
      "metadata": {
        "id": "P8pBrc-xy710"
      },
      "execution_count": null,
      "outputs": []
    },
    {
      "cell_type": "code",
      "source": [
        "from sklearn.ensemble import RandomForestClassifier\n",
        "from sklearn.metrics import classification_report, accuracy_score\n",
        "models_data = {\n",
        "\n",
        "    'KNN Imputer': (X_train_knn, X_test_knn),\n",
        "    'Iterative Imputer': (X_train_iter, X_test_iter)\n",
        "}\n",
        "\n",
        "model = RandomForestClassifier(random_state=42,max_depth=2)\n",
        "for name, (Xtr, Xte) in models_data.items():\n",
        "    model.fit(Xtr, y_train)\n",
        "    y_pred = model.predict(Xte)\n",
        "    print(f\"{name} Results\")\n",
        "    print(\"Accuracy:\", accuracy_score(y_test, y_pred))\n",
        "    print(classification_report(y_test, y_pred))"
      ],
      "metadata": {
        "colab": {
          "base_uri": "https://localhost:8080/"
        },
        "id": "rao2_Ilkzgn7",
        "outputId": "373f270b-4cfa-4874-b160-e7a3ca4f2d62"
      },
      "execution_count": null,
      "outputs": [
        {
          "output_type": "stream",
          "name": "stdout",
          "text": [
            "KNN Imputer Results\n",
            "Accuracy: 0.9664804469273743\n",
            "              precision    recall  f1-score   support\n",
            "\n",
            "           0       0.95      0.99      0.97       105\n",
            "           1       0.99      0.93      0.96        74\n",
            "\n",
            "    accuracy                           0.97       179\n",
            "   macro avg       0.97      0.96      0.97       179\n",
            "weighted avg       0.97      0.97      0.97       179\n",
            "\n",
            "Iterative Imputer Results\n",
            "Accuracy: 0.9664804469273743\n",
            "              precision    recall  f1-score   support\n",
            "\n",
            "           0       0.95      0.99      0.97       105\n",
            "           1       0.99      0.93      0.96        74\n",
            "\n",
            "    accuracy                           0.97       179\n",
            "   macro avg       0.97      0.96      0.97       179\n",
            "weighted avg       0.97      0.97      0.97       179\n",
            "\n"
          ]
        }
      ]
    }
  ]
}